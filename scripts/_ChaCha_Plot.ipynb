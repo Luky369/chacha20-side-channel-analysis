{
 "cells": [
  {
   "cell_type": "markdown",
   "id": "2ac524bc",
   "metadata": {},
   "source": [
    " # Functions to create and save graphs"
   ]
  },
  {
   "cell_type": "code",
   "execution_count": null,
   "id": "ccdcda5a",
   "metadata": {},
   "outputs": [],
   "source": [
    "import os\n",
    "import numpy as np\n",
    "import matplotlib.pyplot as plt\n",
    "from itertools import chain"
   ]
  },
  {
   "cell_type": "code",
   "execution_count": null,
   "id": "9ea1bd8c",
   "metadata": {},
   "outputs": [],
   "source": [
    "def save_ttest_plots(input_folder, \n",
    "                     output_folder, \n",
    "                     file_prefix=\"t_vals_\", \n",
    "                     byte_pos_range=range(0, 32), \n",
    "                     byte_value_range=range(0x00, 0x100),\n",
    "                     word_indices=None):\n",
    "    \"\"\"\n",
    "    Save t-test value plots as PNG files for specified byte positions and values.\n",
    "\n",
    "    NOTE: word_indices was added ad-hoc to allow for plotting of t-test values for specific S1 words, when additional LA of S1[0] and S1[12] was done.\n",
    "\n",
    "    Parameters:\n",
    "        input_folder (str): Path to the folder containing t-test value files.\n",
    "        output_folder (str): Path to the folder where plots will be saved.\n",
    "        file_prefix (str): Prefix for the t-test value files (default: \"t_vals_\").\n",
    "        byte_pos_range (range): Range of byte positions to process (default: 0-31).\n",
    "        byte_value_range (range): Range of byte values to process (default: 0x00-0xff).\n",
    "        word_indices (list): List of word indices to process (default: None). If None, only byte positions are processed.\n",
    "    \"\"\"\n",
    "    # Ensure the output folder exists\n",
    "    os.makedirs(output_folder, exist_ok=True)\n",
    "\n",
    "    # Generate a colormap for the byte values\n",
    "    num_colors = len(byte_value_range)\n",
    "    colors = plt.cm.get_cmap('hsv', num_colors)\n",
    "\n",
    "    # Iterate over byte positions\n",
    "    if word_indices is None:\n",
    "        word_indices = [-1]  # Default to processing all byte positions if not specified\n",
    "\n",
    "    for word_pos in word_indices:\n",
    "        for byte_pos in byte_pos_range:\n",
    "            t_values_array_np = []\n",
    "\n",
    "            # Load the t-test value files for each byte value\n",
    "            for byte_value in byte_value_range:\n",
    "                byte_value_hex = f\"{byte_value:02x}\"\n",
    "                t_values_file = None\n",
    "                if word_pos == -1:\n",
    "                    t_values_file = os.path.join(input_folder, f\"{file_prefix}{byte_pos}_{byte_value_hex}.npy\")\n",
    "                else:\n",
    "                    t_values_file = os.path.join(input_folder, f\"{file_prefix}{word_pos}_{byte_pos}_{byte_value_hex}.npy\")\n",
    "                if not os.path.exists(t_values_file):\n",
    "                    print(f\"File not found: {t_values_file}\")\n",
    "                    continue\n",
    "\n",
    "                t_values = np.load(t_values_file)\n",
    "                t_values_array_np.append(t_values)\n",
    "\n",
    "            # Convert the list to a NumPy array for easier indexing\n",
    "            t_values_array_np = np.array(t_values_array_np)\n",
    "\n",
    "            # Create a figure for the plot\n",
    "            plt.figure(figsize=(10, 5))\n",
    "\n",
    "            # Plot t-values for each byte value\n",
    "            for y, byte_value in enumerate(byte_value_range):\n",
    "                if y < len(t_values_array_np):  # Ensure the index is valid\n",
    "                    plt.scatter(range(len(t_values_array_np[y])), t_values_array_np[y], color=colors(y), s=10, alpha=0.5)\n",
    "\n",
    "            # Add threshold lines\n",
    "            plt.axhline(y=4.5, color='r', linestyle='--', label='Threshold 4.5')\n",
    "            plt.axhline(y=-4.5, color='r', linestyle='--', label='Threshold -4.5')\n",
    "\n",
    "            # Set labels and title\n",
    "            plt.xlabel('Trace Sample Point')\n",
    "            plt.ylabel('t-value')\n",
    "\n",
    "            # Save the plot as a PNG file\n",
    "            output_file = None\n",
    "            if word_pos == -1:\n",
    "                output_file = os.path.join(output_folder, f\"{file_prefix}{byte_pos}.png\")\n",
    "            else:\n",
    "                output_file = os.path.join(output_folder, f\"{file_prefix}{word_pos}_{byte_pos}.png\")\n",
    "            plt.savefig(output_file, bbox_inches='tight', dpi=600)\n",
    "            print(f\"Plot saved to {output_file}\")\n",
    "\n",
    "            # Close the plot to free memory\n",
    "            plt.close()"
   ]
  },
  {
   "cell_type": "markdown",
   "id": "daae224d",
   "metadata": {},
   "source": [
    "# Plot creation for all specific t-tests"
   ]
  },
  {
   "cell_type": "code",
   "execution_count": null,
   "id": "801c7eca",
   "metadata": {},
   "outputs": [],
   "source": [
    "# STM - Key 1\n",
    "input_folder = \"_LA-STM-1\"\n",
    "output_folder = \"_LA-STM-1/plots\"\n",
    "save_ttest_plots(input_folder, output_folder, file_prefix=\"t_stats_\", byte_pos_range=range(0, 32), byte_value_range=range(0x100))"
   ]
  },
  {
   "cell_type": "code",
   "execution_count": null,
   "id": "1f73dfe0",
   "metadata": {},
   "outputs": [],
   "source": [
    "# STM - Key 2\n",
    "input_folder = \"_LA-STM-2\"\n",
    "output_folder = \"_LA-STM-2/plots\"\n",
    "save_ttest_plots(input_folder, output_folder, file_prefix=\"t_stats_\", byte_pos_range=range(0, 32), byte_value_range=range(0x100))"
   ]
  },
  {
   "cell_type": "code",
   "execution_count": null,
   "id": "5b572cfc",
   "metadata": {},
   "outputs": [],
   "source": [
    "# XMEGA - Key 1\n",
    "input_folder = \"_LA-XMEGA-1\"\n",
    "output_folder = \"_LA-XMEGA-1/plots\"\n",
    "save_ttest_plots(input_folder, output_folder, file_prefix=\"t_stats_\", byte_pos_range=range(0, 32), byte_value_range=range(0x100))"
   ]
  },
  {
   "cell_type": "code",
   "execution_count": null,
   "id": "ab347b9a",
   "metadata": {},
   "outputs": [],
   "source": [
    "# XMEGA - Key 2\n",
    "input_folder = \"_LA-XMEGA-2\"\n",
    "output_folder = \"_LA-XMEGA-2/plots\"\n",
    "save_ttest_plots(input_folder, output_folder, file_prefix=\"t_stats_\", byte_pos_range=range(0, 32), byte_value_range=range(0x100))"
   ]
  },
  {
   "cell_type": "markdown",
   "id": "f90ad43c",
   "metadata": {},
   "source": [
    "### Additional Plot saving after LA of S1[0] and S1[12]"
   ]
  },
  {
   "cell_type": "code",
   "execution_count": null,
   "id": "df9ccfdd",
   "metadata": {},
   "outputs": [],
   "source": [
    "# STM - Key 1\n",
    "input_folder = \"_LA-STM-1-ADDITIONAL-S1-WORDS\"\n",
    "output_folder = \"_LA-STM-1-ADDITIONAL-S1-WORDS/plots\"\n",
    "save_ttest_plots(input_folder, output_folder, file_prefix=\"t_stats_\", byte_pos_range=range(4), byte_value_range=range(0x100), word_indices=[0, 12])"
   ]
  },
  {
   "cell_type": "code",
   "execution_count": null,
   "id": "eb9d7c29",
   "metadata": {},
   "outputs": [],
   "source": [
    "# STM - Key 2\n",
    "input_folder = \"_LA-STM-2-ADDITIONAL-S1-WORDS\"\n",
    "output_folder = \"_LA-STM-2-ADDITIONAL-S1-WORDS/plots\"\n",
    "save_ttest_plots(input_folder, output_folder, file_prefix=\"t_stats_\", byte_pos_range=range(4), byte_value_range=range(0x100), word_indices=[0, 12])"
   ]
  },
  {
   "cell_type": "code",
   "execution_count": null,
   "id": "2a789cc0",
   "metadata": {},
   "outputs": [],
   "source": [
    "# STM - Key 2\n",
    "input_folder = \"_LA-XMEGA-1-ADDITIONAL-S1-WORDS\"\n",
    "output_folder = \"_LA-XMEGA-1-ADDITIONAL-S1-WORDS/plots\"\n",
    "save_ttest_plots(input_folder, output_folder, file_prefix=\"t_stats_\", byte_pos_range=range(4), byte_value_range=range(0x100), word_indices=[0, 12])"
   ]
  },
  {
   "cell_type": "code",
   "execution_count": null,
   "id": "73dd2d89",
   "metadata": {},
   "outputs": [],
   "source": [
    "# STM - Key 2\n",
    "input_folder = \"_LA-XMEGA-2-ADDITIONAL-S1-WORDS\"\n",
    "output_folder = \"_LA-XMEGA-2-ADDITIONAL-S1-WORDS/plots\"\n",
    "save_ttest_plots(input_folder, output_folder, file_prefix=\"t_stats_\", byte_pos_range=range(4), byte_value_range=range(0x100), word_indices=[0, 12])"
   ]
  },
  {
   "cell_type": "markdown",
   "id": "706cf266",
   "metadata": {},
   "source": [
    "# Custom functions"
   ]
  },
  {
   "cell_type": "code",
   "execution_count": null,
   "id": "ced890bd",
   "metadata": {},
   "outputs": [],
   "source": [
    "def plot_ttest_with_trace(ttest_folder, traces_folder, output_folder, byte_pos, byte_value_range, trace_file, trace_len):\n",
    "    \"\"\"\n",
    "    Plot t-test values for a range of byte values at a specific byte position, with a single trace in the background.\n",
    "\n",
    "    Parameters:\n",
    "        ttest_folder (str): Path to the folder containing t-test value files.\n",
    "        traces_folder (str): Path to the folder containing trace files.\n",
    "        output_folder (str): Path to the folder where the plot will be saved.\n",
    "        byte_pos (int): Byte position to plot.\n",
    "        byte_value_range (range): Range of byte values to plot (e.g., range(0x00, 0x10)).\n",
    "        trace_file (str): Name of the trace file to load.\n",
    "        trace_index (int): Index of the trace to overlay (default: 0).\n",
    "    \"\"\"\n",
    "    # Ensure the output folder exists\n",
    "    os.makedirs(output_folder, exist_ok=True)\n",
    "\n",
    "    # Load the first trace directly from the file\n",
    "    trace_path = os.path.join(traces_folder, trace_file)\n",
    "    if not os.path.exists(trace_path):\n",
    "        print(f\"Trace file not found: {trace_path}\")\n",
    "        return\n",
    "\n",
    "    # Read only the first trace\n",
    "    with open(trace_path, 'rb') as f:\n",
    "        trace = np.frombuffer(f.read(trace_len * np.dtype(np.uint16).itemsize), dtype=np.uint16)\n",
    "\n",
    "    # Create a figure and two y-axes\n",
    "    fig, ax1 = plt.subplots(figsize=(12, 6))\n",
    "\n",
    "    # Plot the trace on the primary y-axis\n",
    "    ax1.plot(trace, 'k-', alpha=0.5, label=\"Trace (background)\")\n",
    "    ax1.set_xlabel(\"Sample Points\")\n",
    "    ax1.set_ylabel(\"Amplitude\", color='black')\n",
    "    ax1.tick_params(axis='y', labelcolor='black')\n",
    "\n",
    "    # Create a secondary y-axis for the t-test values\n",
    "    ax2 = ax1.twinx()\n",
    "\n",
    "    # Plot t-test values for each byte value in the range\n",
    "    for byte_value in byte_value_range:\n",
    "        ttest_file = os.path.join(ttest_folder, f\"t_stats_{byte_pos}_{byte_value:02x}.npy\")\n",
    "        if not os.path.exists(ttest_file):\n",
    "            print(f\"T-test file not found: {ttest_file}\")\n",
    "            continue\n",
    "\n",
    "        ttest_values = np.load(ttest_file)\n",
    "        ax2.plot(ttest_values)\n",
    "\n",
    "    ax2.set_ylabel(\"T-value\", color='red')\n",
    "    ax2.tick_params(axis='y', labelcolor='red')\n",
    "\n",
    "    # Add threshold lines on the secondary y-axis\n",
    "    ax2.axhline(y=4.5, color='r', linestyle='--', label='Threshold 4.5')\n",
    "    ax2.axhline(y=-4.5, color='r', linestyle='--', label='Threshold -4.5')\n",
    "\n",
    "    # Add a legend\n",
    "    fig.legend(loc=\"upper right\", bbox_to_anchor=(1, 1), bbox_transform=ax1.transAxes)\n",
    "\n",
    "    # Save the plot as a PNG file\n",
    "    output_file = os.path.join(output_folder, f\"t_test_overlay_{byte_pos}.png\")\n",
    "    plt.savefig(output_file, bbox_inches='tight', dpi=600)\n",
    "    print(f\"Plot saved to {output_file}\")\n",
    "\n",
    "    # Show the plot\n",
    "    plt.show()"
   ]
  },
  {
   "cell_type": "code",
   "execution_count": null,
   "id": "e34e63e7",
   "metadata": {},
   "outputs": [],
   "source": [
    "# Example parameters\n",
    "ttest_folder = \"_LA-XMEGA-1\"\n",
    "traces_folder = \"ChaCha-100-000-Random-Nonce-XMEGA\"\n",
    "output_folder = \"_LA-XMEGA-1/plots\"\n",
    "byte_pos = 4\n",
    "byte_value_range = range(0x00, 0x3)  # Plot for byte values 0x00 to 0x0F\n",
    "trace_file = \"traces_random_all.bin\"\n",
    "trace_index = 0\n",
    "trace_len = 21304\n",
    "\n",
    "# Call the function\n",
    "plot_ttest_with_trace(ttest_folder, traces_folder, output_folder, byte_pos, byte_value_range, trace_file, trace_len)"
   ]
  },
  {
   "cell_type": "code",
   "execution_count": null,
   "id": "0a0e0915",
   "metadata": {},
   "outputs": [],
   "source": [
    "def plot_ttest(ttest_folder, byte_pos, byte_value_range, trace_len):\n",
    "    \"\"\"\n",
    "    Plot t-test values.\n",
    "\n",
    "    Parameters:\n",
    "        ttest_folder (str): Path to the folder containing t-test value files.\n",
    "        byte_pos (int): Byte position to plot.\n",
    "        byte_value_range (range): Range of byte values to plot (e.g., range(0x00, 0x10)).\n",
    "        trace_len (int): Trace lenght / samples count.\n",
    "    \"\"\"\n",
    "    # Create a figure for the plot\n",
    "    plt.figure(figsize=(12, 6))\n",
    "\n",
    "    # Generate a colormap for the byte values\n",
    "    num_colors = len(byte_value_range)\n",
    "    colors = plt.cm.get_cmap('hsv', num_colors)\n",
    "\n",
    "    # Plot t-test values for each byte value in the range\n",
    "    for y, byte_value in enumerate(byte_value_range):\n",
    "        ttest_file = os.path.join(ttest_folder, f\"t_stats_{byte_pos}_{byte_value:02x}.npy\")\n",
    "        if not os.path.exists(ttest_file):\n",
    "            print(f\"T-test file not found: {ttest_file}\")\n",
    "            continue\n",
    "\n",
    "        ttest_values = np.load(ttest_file)\n",
    "#         plt.plot(ttest_values, color=colors(y), label=f\"Byte Value {byte_value:02x}\")\n",
    "        plt.scatter(range(len(ttest_values)), ttest_values, color=colors(y), s=10, alpha=0.5)\n",
    "\n",
    "    # Add threshold lines\n",
    "    plt.axhline(y=4.5, color='r', linestyle='--', label='Threshold 4.5')\n",
    "    plt.axhline(y=-4.5, color='r', linestyle='--', label='Threshold -4.5')\n",
    "\n",
    "    # Set labels and title\n",
    "    plt.xlabel('Trace Sample Point')\n",
    "    plt.ylabel('t-value')\n",
    "    plt.title(f'T-Values for Byte Position {byte_pos}')\n",
    "    plt.xlim(500,1000)\n",
    "    \n",
    "\n",
    "#     Show the plot\n",
    "    plt.show()"
   ]
  },
  {
   "cell_type": "code",
   "execution_count": null,
   "id": "c94ca635",
   "metadata": {},
   "outputs": [],
   "source": [
    "plot_ttest(\"_LA-STM-1\", 4, range(256), 9168)"
   ]
  }
 ],
 "metadata": {
  "kernelspec": {
   "display_name": "Python 3 (ipykernel)",
   "language": "python",
   "name": "python3"
  },
  "language_info": {
   "codemirror_mode": {
    "name": "ipython",
    "version": 3
   },
   "file_extension": ".py",
   "mimetype": "text/x-python",
   "name": "python",
   "nbconvert_exporter": "python",
   "pygments_lexer": "ipython3",
   "version": "3.10.8"
  }
 },
 "nbformat": 4,
 "nbformat_minor": 5
}
