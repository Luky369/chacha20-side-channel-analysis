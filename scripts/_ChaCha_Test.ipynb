{
 "cells": [
  {
   "cell_type": "code",
   "execution_count": 7,
   "id": "815a0a04",
   "metadata": {},
   "outputs": [],
   "source": [
    "import numpy as np\n",
    "from Crypto.Cipher import ChaCha20\n",
    "import math\n",
    "import os"
   ]
  },
  {
   "cell_type": "markdown",
   "id": "5af2332e",
   "metadata": {},
   "source": [
    "# Helper functions\n",
    "## Read the captured data"
   ]
  },
  {
   "cell_type": "code",
   "execution_count": 2,
   "id": "ed221adb",
   "metadata": {},
   "outputs": [],
   "source": [
    "NONCE_LEN_BYTES = 12\n",
    "TRACE_RANDOM_CNT = None\n",
    "CHUNK_SIZE = None\n",
    "CHUNKS_CNT = None\n",
    "LAST_CHUNK_SIZE = None\n",
    "\n",
    "NONCES = None\n",
    "NONCE_LEN_BYTES = 12\n",
    "\n",
    "PLAINTEXTS = None\n",
    "PLAINTEXT_LEN_BYTES = 64\n",
    "\n",
    "CIPHERTEXTS = None\n",
    "CIPHERTEXT_LEN_BYTES = 64 \n"
   ]
  },
  {
   "cell_type": "code",
   "execution_count": 3,
   "id": "e728faa5",
   "metadata": {},
   "outputs": [],
   "source": [
    "def read_info(folder):\n",
    "    global CHUNK_SIZE, LAST_CHUNK_SIZE\n",
    "    global CHUNKS_CNT\n",
    "    with open(f\"{folder}/info.txt\", 'r') as file:\n",
    "        global TRACE_CNT\n",
    "        global TRACE_LEN\n",
    "        global TRACE_RANDOM_CNT\n",
    "        TRACE_CNT = int(file.readline())\n",
    "        TRACE_RANDOM_CNT = TRACE_CNT\n",
    "        CHUNK_SIZE = int(file.readline())\n",
    "        TRACE_LEN = int(file.readline())\n",
    "        \n",
    "    CHUNKS_CNT = math.ceil(TRACE_CNT / CHUNK_SIZE)\n",
    "    LAST_CHUNK_SIZE = TRACE_CNT - (CHUNKS_CNT - 1)* CHUNK_SIZE\n",
    "    print(f\"TRACE_CNT = {TRACE_CNT}\")   \n",
    "    print(f\"CHUNK_SIZE = {CHUNK_SIZE}\")   \n",
    "    print(f\"LAST_CHUNK_SIZE = {LAST_CHUNK_SIZE}\")   \n",
    "    print(f\"CHUNKS_CNT = {CHUNKS_CNT}\")   \n",
    "    print(f\"TRACE_RANDOM_CNT = {TRACE_RANDOM_CNT}\")   \n",
    "    print(f\"TRACE_LEN = {TRACE_LEN}\")"
   ]
  },
  {
   "cell_type": "code",
   "execution_count": 9,
   "id": "88415de7",
   "metadata": {},
   "outputs": [],
   "source": [
    "NONCES = None\n",
    "def read_nonces(FOLDER):\n",
    "    global NONCES\n",
    "    global CHUNK_SIZE, LAST_CHUNK_SIZE\n",
    "    global CHUNKS_CNT\n",
    "    global TRACE_CNT\n",
    "    # Calculate the number of chunks\n",
    "    \n",
    "    nonces_list = []\n",
    "    for chunk_index in range(CHUNKS_CNT):\n",
    "        chunk_folder = os.path.join(FOLDER, f\"chunk_{chunk_index}\")\n",
    "        chunk_file = os.path.join(chunk_folder, \"nonces_random.bin\")\n",
    "        \n",
    "        if os.path.exists(chunk_file):\n",
    "            with open(chunk_file, 'rb') as file:\n",
    "                byte_array = file.read()\n",
    "            \n",
    "            if chunk_index != CHUNKS_CNT-1:\n",
    "                chunk = np.frombuffer(byte_array, dtype=np.uint8).reshape((CHUNK_SIZE, NONCE_LEN_BYTES))\n",
    "            else:\n",
    "                chunk = np.frombuffer(byte_array, dtype=np.uint8).reshape((LAST_CHUNK_SIZE, NONCE_LEN_BYTES))\n",
    "\n",
    "            nonces_list.append(chunk)\n",
    "        else:\n",
    "            print(f\"Chunk file {chunk_file} does not exist.\")\n",
    "    \n",
    "    # Concatenate all chunks\n",
    "    NONCES = np.vstack(nonces_list)\n",
    "    \n",
    "    nonce = NONCES[0]\n",
    "    # Convert each byte to its hexadecimal representation and join them\n",
    "    hex_representation = ''.join(f'{byte:02x}' for byte in nonce[:12])\n",
    "    # Print the result\n",
    "    print(f\"Nonce[0] = {hex_representation}\")"
   ]
  },
  {
   "cell_type": "code",
   "execution_count": 10,
   "id": "b15f7c1c",
   "metadata": {},
   "outputs": [],
   "source": [
    "CIPHERTEXTS = None\n",
    "def read_ciphertexts(folder):\n",
    "    global CIPHERTEXTS\n",
    "    global CHUNK_SIZE, LAST_CHUNK_SIZE\n",
    "    global CHUNKS_CNT\n",
    "    global TRACE_CNT\n",
    "    # Calculate the number of chunks\n",
    "    \n",
    "    ciphertexts_list = []\n",
    "    for chunk_index in range(CHUNKS_CNT):\n",
    "        chunk_folder = os.path.join(folder, f\"chunk_{chunk_index}\")\n",
    "        chunk_file = os.path.join(chunk_folder, \"ciphertexts_random.bin\")\n",
    "        \n",
    "        if os.path.exists(chunk_file):\n",
    "            with open(chunk_file, 'rb') as file:\n",
    "                byte_array = file.read()\n",
    "            \n",
    "            if chunk_index != CHUNKS_CNT-1:\n",
    "                chunk_ciphertexts = np.frombuffer(byte_array, dtype=np.uint8).reshape((CHUNK_SIZE, CIPHERTEXT_LEN_BYTES))\n",
    "            else:\n",
    "                chunk_ciphertexts = np.frombuffer(byte_array, dtype=np.uint8).reshape((LAST_CHUNK_SIZE, CIPHERTEXT_LEN_BYTES))\n",
    "\n",
    "            ciphertexts_list.append(chunk_ciphertexts)\n",
    "        else:\n",
    "            print(f\"Chunk file {chunk_file} does not exist.\")\n",
    "    \n",
    "    # Concatenate all chunks\n",
    "    CIPHERTEXTS = np.vstack(ciphertexts_list)\n",
    "        \n",
    "    ciphertext = CIPHERTEXTS[0]\n",
    "    # Convert each byte to its hexadecimal representation and join them\n",
    "    hex_representation = ''.join(f'{byte:02x}' for byte in ciphertext[:64])\n",
    "    # Print the result\n",
    "    print(f\"CT[0] = {hex_representation}\")"
   ]
  },
  {
   "cell_type": "code",
   "execution_count": 11,
   "id": "5310921f",
   "metadata": {},
   "outputs": [],
   "source": [
    "PLAINTEXTS = None\n",
    "def read_plaintexts(folder):\n",
    "    global PLAINTEXTS\n",
    "    global CHUNK_SIZE, LAST_CHUNK_SIZE\n",
    "    global CHUNKS_CNT\n",
    "    global TRACE_CNT\n",
    "    # Calculate the number of chunks\n",
    "    \n",
    "    pts_list = []\n",
    "    for chunk_index in range(CHUNKS_CNT):\n",
    "        chunk_folder = os.path.join(folder, f\"chunk_{chunk_index}\")\n",
    "        chunk_file = os.path.join(chunk_folder, \"plaintexts_random.bin\")\n",
    "        \n",
    "        if os.path.exists(chunk_file):\n",
    "            with open(chunk_file, 'rb') as file:\n",
    "                byte_array = file.read()\n",
    "            \n",
    "            if chunk_index != CHUNKS_CNT-1:\n",
    "                chunk_pts = np.frombuffer(byte_array, dtype=np.uint8).reshape((CHUNK_SIZE, PLAINTEXT_LEN_BYTES))\n",
    "            else:\n",
    "                chunk_pts = np.frombuffer(byte_array, dtype=np.uint8).reshape((LAST_CHUNK_SIZE, PLAINTEXT_LEN_BYTES))\n",
    "\n",
    "            pts_list.append(chunk_pts)\n",
    "        else:\n",
    "            print(f\"Chunk file {chunk_file} does not exist.\")\n",
    "    \n",
    "    # Concatenate all chunks\n",
    "    PLAINTEXTS = np.vstack(pts_list)\n",
    "    \n",
    "    # Desired shape\n",
    "    desired_shape = (TRACE_CNT, PLAINTEXT_LEN_BYTES)\n",
    "        \n",
    "    pt = PLAINTEXTS[0]\n",
    "    # Convert each byte to its hexadecimal representation and join them\n",
    "    hex_representation = ''.join(f'{byte:02x}' for byte in pt[:64])\n",
    "    # Print the result\n",
    "    print(f\"PT[0] = {hex_representation}\")"
   ]
  },
  {
   "cell_type": "markdown",
   "id": "ff988255",
   "metadata": {},
   "source": [
    "## Function to perform the testing"
   ]
  },
  {
   "cell_type": "code",
   "execution_count": 14,
   "id": "7efea0c3",
   "metadata": {},
   "outputs": [],
   "source": [
    "def verify_encryptions():\n",
    "    key = CORRECT_KEY.tobytes()\n",
    "    # Loop through each value and check encryption/decryption\n",
    "    for i in range(TRACE_CNT):\n",
    "        # Extract nonce, plaintext, and expected ciphertext\n",
    "        nonce_i = NONCES[i].tobytes()\n",
    "        pt_i = PLAINTEXTS[i].tobytes()\n",
    "        ct_i = CIPHERTEXTS[i].tobytes()\n",
    "\n",
    "        # Encrypt the plaintext\n",
    "        cipher = ChaCha20.new(key=key, nonce=nonce_i)\n",
    "        generated_ct = cipher.encrypt(pt_i)\n",
    "\n",
    "        # Check if the generated ciphertext matches the expected ciphertext\n",
    "        if generated_ct != ct_i:\n",
    "            print(f\"Mismatch found at index {i} during encryption\")\n",
    "            print(f'KEY    - {key.hex()}')\n",
    "            print(f'NONCE  - {nonce_i.hex()}')\n",
    "            print(f'PT     - {pt_i.hex()}')\n",
    "            print(f'RESULTS:')\n",
    "            print(f'Python - {generated_ct.hex()}')\n",
    "            print(f'MCU    - {ct_i.hex()}')\n",
    "    #         break\n",
    "\n",
    "        # Decrypt the ciphertext\n",
    "        cipher = ChaCha20.new(key=key, nonce=nonce_i)\n",
    "        decrypted_pt = cipher.decrypt(ct_i)\n",
    "\n",
    "        # Check if the decrypted plaintext matches the original plaintext\n",
    "        if decrypted_pt != pt_i:\n",
    "            print(f\"Mismatch found at index {i} during decryption\")\n",
    "            print(f'KEY    - {key.hex()}')\n",
    "            print(f'NONCE  - {nonce_i.hex()}')\n",
    "            print(f'PT     - {pt_i.hex()}')\n",
    "            print(f'CT     - {ct_i.hex()}')\n",
    "            print(f'RESULTS:')\n",
    "            print(f'Python - {decrypted_pt.hex()}')\n",
    "            break\n",
    "    else:\n",
    "        print(\"All values matched successfully.\")"
   ]
  },
  {
   "cell_type": "markdown",
   "id": "3cc41572",
   "metadata": {},
   "source": [
    "# Verify the data"
   ]
  },
  {
   "cell_type": "markdown",
   "id": "af24fa33",
   "metadata": {},
   "source": [
    "## XMEGA"
   ]
  },
  {
   "cell_type": "code",
   "execution_count": 5,
   "id": "8f634e46",
   "metadata": {},
   "outputs": [],
   "source": [
    "FOLDER = \"ChaCha-100-000-Random-Nonce-XMEGA\""
   ]
  },
  {
   "cell_type": "code",
   "execution_count": 8,
   "id": "4e859fa6",
   "metadata": {},
   "outputs": [
    {
     "name": "stdout",
     "output_type": "stream",
     "text": [
      "TRACE_CNT = 100000\n",
      "CHUNK_SIZE = 10000\n",
      "LAST_CHUNK_SIZE = 10000\n",
      "CHUNKS_CNT = 10\n",
      "TRACE_RANDOM_CNT = 100000\n",
      "TRACE_LEN = 21304\n"
     ]
    }
   ],
   "source": [
    "read_info(FOLDER)"
   ]
  },
  {
   "cell_type": "code",
   "execution_count": 12,
   "id": "78c7470a",
   "metadata": {},
   "outputs": [
    {
     "name": "stdout",
     "output_type": "stream",
     "text": [
      "Nonce[0] = 25cc4792cfd34a0418243218\n",
      "PT[0] = 918d99c3da107c664a58f688c228fdb4fb0a4b8b8ca70a1a6399f8f504eb4db607846b6c437a2ed9634e95e3c723d713e3d8ff8855ef58d4219c41b2335840fe\n",
      "CT[0] = 98971d085927a07bf057543c5458919f545223dc3b78ea51d563db098119a44161fa6c8823dca6870c41fbc0087432650e1c3f0c2b8e0a03a9a3fc40f2f18202\n"
     ]
    }
   ],
   "source": [
    "read_nonces(FOLDER)\n",
    "read_plaintexts(FOLDER)\n",
    "read_ciphertexts(FOLDER)"
   ]
  },
  {
   "cell_type": "code",
   "execution_count": 13,
   "id": "e77153b5",
   "metadata": {},
   "outputs": [
    {
     "name": "stdout",
     "output_type": "stream",
     "text": [
      "Correct Key: 3afa3f58fbc0f2bc68e5ac304bb50e43833971578b132a87d9621f51b1f4e6e0\n"
     ]
    }
   ],
   "source": [
    "#load the correct key\n",
    "CORRECT_KEY = np.fromfile(f\"{FOLDER}/key.bin\", dtype=np.uint8)\n",
    "hex_key = ''.join(f'{byte:02x}' for byte in CORRECT_KEY)\n",
    "print(f\"Correct Key: {hex_key}\")"
   ]
  },
  {
   "cell_type": "code",
   "execution_count": 15,
   "id": "db67ed4f",
   "metadata": {},
   "outputs": [
    {
     "name": "stdout",
     "output_type": "stream",
     "text": [
      "All values matched successfully.\n"
     ]
    }
   ],
   "source": [
    "verify_encryptions()"
   ]
  },
  {
   "cell_type": "markdown",
   "id": "0a781abb",
   "metadata": {},
   "source": [
    "## STM"
   ]
  },
  {
   "cell_type": "code",
   "execution_count": 16,
   "id": "1a5cbdbe",
   "metadata": {},
   "outputs": [],
   "source": [
    "FOLDER = \"ChaCha-100-000-Random-Nonce-STM\""
   ]
  },
  {
   "cell_type": "code",
   "execution_count": 17,
   "id": "2a82fe18",
   "metadata": {},
   "outputs": [
    {
     "name": "stdout",
     "output_type": "stream",
     "text": [
      "TRACE_CNT = 100000\n",
      "CHUNK_SIZE = 10000\n",
      "LAST_CHUNK_SIZE = 10000\n",
      "CHUNKS_CNT = 10\n",
      "TRACE_RANDOM_CNT = 100000\n",
      "TRACE_LEN = 9168\n"
     ]
    }
   ],
   "source": [
    "read_info(FOLDER)"
   ]
  },
  {
   "cell_type": "code",
   "execution_count": 18,
   "id": "036eb9dc",
   "metadata": {},
   "outputs": [
    {
     "name": "stdout",
     "output_type": "stream",
     "text": [
      "Nonce[0] = fcc1c7ef50f1888e8847a966\n",
      "PT[0] = 09e2271a54307e043b82f1a859dae46ab66b81e2f19fd24a66c05cc85da78b7c991355fbd81ac7cfed82df949dbe11216f11cac6f9d1a0cd30e3e603411d0cb4\n",
      "CT[0] = 03dc065b81abb512b003f85569a943e3b323c74b2161576808986301e41c5f9255fc6c339d9157800f053045a726ed3676875fb9edf525e6ee043e910585e96e\n"
     ]
    }
   ],
   "source": [
    "read_nonces(FOLDER)\n",
    "read_plaintexts(FOLDER)\n",
    "read_ciphertexts(FOLDER)"
   ]
  },
  {
   "cell_type": "code",
   "execution_count": 19,
   "id": "2754a4b5",
   "metadata": {},
   "outputs": [
    {
     "name": "stdout",
     "output_type": "stream",
     "text": [
      "Correct Key: db48fa60a61f68bf31b12ec9344e68d8f5782105fa4b67eebf67c46345f5a402\n"
     ]
    }
   ],
   "source": [
    "#load the correct key\n",
    "CORRECT_KEY = np.fromfile(f\"{FOLDER}/key.bin\", dtype=np.uint8)\n",
    "hex_key = ''.join(f'{byte:02x}' for byte in CORRECT_KEY)\n",
    "print(f\"Correct Key: {hex_key}\")"
   ]
  },
  {
   "cell_type": "code",
   "execution_count": 20,
   "id": "bde9279d",
   "metadata": {},
   "outputs": [
    {
     "name": "stdout",
     "output_type": "stream",
     "text": [
      "All values matched successfully.\n"
     ]
    }
   ],
   "source": [
    "verify_encryptions()"
   ]
  },
  {
   "cell_type": "code",
   "execution_count": null,
   "id": "a0863b2e",
   "metadata": {},
   "outputs": [],
   "source": []
  }
 ],
 "metadata": {
  "kernelspec": {
   "display_name": "Python 3 (ipykernel)",
   "language": "python",
   "name": "python3"
  },
  "language_info": {
   "codemirror_mode": {
    "name": "ipython",
    "version": 3
   },
   "file_extension": ".py",
   "mimetype": "text/x-python",
   "name": "python",
   "nbconvert_exporter": "python",
   "pygments_lexer": "ipython3",
   "version": "3.10.8"
  }
 },
 "nbformat": 4,
 "nbformat_minor": 5
}
